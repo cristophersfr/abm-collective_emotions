{
 "cells": [
  {
   "cell_type": "code",
   "execution_count": 1,
   "metadata": {},
   "outputs": [],
   "source": [
    "#!/usr/bin/env python3\n",
    "# -*- coding:utf-8 -*-"
   ]
  },
  {
   "cell_type": "code",
   "execution_count": 2,
   "metadata": {},
   "outputs": [],
   "source": [
    "import pandas as pd\n",
    "import numpy as np"
   ]
  },
  {
   "cell_type": "markdown",
   "metadata": {},
   "source": [
    "### Settings"
   ]
  },
  {
   "cell_type": "markdown",
   "metadata": {},
   "source": [
    "The first setting `time` determines how many time steps the model will run through. Arbitrary values `EXPRESSIONS_POSITIVE` and `EXPRESSIONS_NEGATIVE` are temporary settings that substitute other agents in the model and provide emotional input to the field once at the first time step; the first number represents agents communicating positive emotions to the field, the latter negative emotions."
   ]
  },
  {
   "cell_type": "code",
   "execution_count": 3,
   "metadata": {},
   "outputs": [],
   "source": [
    "TIME = 20\n",
    "\n",
    "EXPRESSIONS_POSITIVE = 15\n",
    "EXPRESSIONS_NEGATIVE = 4"
   ]
  },
  {
   "cell_type": "markdown",
   "metadata": {},
   "source": [
    "These settings set the valence and arousal baselines for the agents, `VALENCE_BASE` and `AROUSAL_BASE`, and the arousal threshold `AR_THRESHOLD` at which agents communicate their emotions."
   ]
  },
  {
   "cell_type": "code",
   "execution_count": 4,
   "metadata": {},
   "outputs": [],
   "source": [
    "VALENCE_BASE = 0.2 # b\n",
    "AROUSAL_BASE = 0.2 # d\n",
    "AR_THRESHOLD = 0.3 # tau"
   ]
  },
  {
   "cell_type": "markdown",
   "metadata": {},
   "source": [
    "The following parameters are constant variables or lists of variables that determine the decay of emotions in agents and the amplitude of stochastic influences on these emotions, `AGENT_DECAY` and `AGENT_AMP` (first values in the lists affect valence, the second arousal), the immediate down-regulation of emotions after their expression `DOWN_REG`, the coefficients `VALENCE_COEFF` and `AROUSAL_COEFF` that are used to describe how the emotional charge of the field change valence and arousal in agents (the first value in the list is value 0, the second is value 1, and so on), the emotional charge of the field at the start of the simulation `FIELD_CHARGE`, the rate of decay of the field `FIELD_DECAY`, and the impact value of the field on the agents `FIELD_IMPACT`."
   ]
  },
  {
   "cell_type": "code",
   "execution_count": 5,
   "metadata": {},
   "outputs": [],
   "source": [
    "AGENT_DECAY = [0.3, # gamma_v\n",
    "               0.9] # gamma_a\n",
    "AGENT_AMP = [0.3, # A_v\n",
    "             0.3] # A_a\n",
    "DOWN_REG = 0.4 # k\n",
    "VALENCE_COEFF = [0,  # b_0\n",
    "                 1,  # b_1\n",
    "                 0,  # b_2\n",
    "                 -1] # b_3\n",
    "AROUSAL_COEFF = [0.05, # d_0\n",
    "                 0.5,  # d_1\n",
    "                 0.5,  # d_2\n",
    "                 0.5]  # d_3\n",
    "\n",
    "FIELD_CHARGE = 0   # h\n",
    "FIELD_DECAY = 0.7  # gamma_h\n",
    "FIELD_IMPACT = 0.1 # s"
   ]
  },
  {
   "cell_type": "markdown",
   "metadata": {},
   "source": [
    "### Entities\n",
    "\n",
    "The following classes define the two entities in the model, agents and the field."
   ]
  },
  {
   "cell_type": "markdown",
   "metadata": {},
   "source": [
    "Note: stochastic factors were removed for the purpose of testing the emotion dynamics of agents."
   ]
  },
  {
   "cell_type": "code",
   "execution_count": 6,
   "metadata": {},
   "outputs": [],
   "source": [
    "class Agent:\n",
    "    '''\n",
    "    Each agent represents one forum user and is defined by its emotional state\n",
    "    that is stored in the valence and arousal variables. Valence indicates\n",
    "    whether their emotional state is positive or negative, while arousal\n",
    "    indicates the strength of that emotion.\n",
    "    '''\n",
    "    def __init__(self):\n",
    "        self.identity = None\n",
    "        self.valence = VALENCE_BASE\n",
    "        self.arousal = AROUSAL_BASE\n",
    "        self.threshold = AR_THRESHOLD\n",
    "        self.valence_history = []\n",
    "        self.arousal_history = []\n",
    "\n",
    "    def perception(self, field):\n",
    "        '''\n",
    "        This method describes how agents perceive their field, how the field\n",
    "        affects their emotional states, and returns the changed emotion\n",
    "        variable given the input field variable and a stochastic component\n",
    "        represented by a random number. The impact of the latter is determined\n",
    "        by the amplitude parameter of the agent.\n",
    "        '''\n",
    "        v_change = field * (VALENCE_COEFF[0]\n",
    "                            + VALENCE_COEFF[1] * self.valence\n",
    "                            + VALENCE_COEFF[2] * self.valence ** 2\n",
    "                            + VALENCE_COEFF[3] * self.valence ** 3)\n",
    "        a_change = np.sign(field) * (AROUSAL_COEFF[0]\n",
    "                                     + AROUSAL_COEFF[1] * self.arousal\n",
    "                                     + AROUSAL_COEFF[2] * self.arousal ** 2\n",
    "                                     + AROUSAL_COEFF[3] * self.arousal ** 3)\n",
    "\n",
    "#        v_stoch = AGENT_AMP[0] * np.random.randint(-100, 100) / 100\n",
    "#        a_stoch = AGENT_AMP[1] * np.random.randint(-100, 100) / 100\n",
    "\n",
    "        self.valence = v_change + self.valence# + v_stoch\n",
    "        self.arousal = a_change + self.arousal# + a_stoch\n",
    "\n",
    "    def expression(self):\n",
    "        '''\n",
    "        This method describes the information agents express to the field and\n",
    "        when. When their arousal reaches their internal threshold value, they\n",
    "        communicate the sign of their valence, the information whether they\n",
    "        are in a positive or negative emotional state. After they communicate\n",
    "        this by storing the information in the expression variable, their\n",
    "        valence and arousal are both immediately down-regulated.\n",
    "        '''\n",
    "        if self.arousal >= self.threshold:\n",
    "            emotion = np.sign(self.valence)\n",
    "            self.valence = (self.valence - VALENCE_BASE) \\\n",
    "                           * DOWN_REG + VALENCE_BASE\n",
    "            self.arousal = (self.arousal - AROUSAL_BASE) \\\n",
    "                           * DOWN_REG + AROUSAL_BASE\n",
    "        else:\n",
    "            emotion = None\n",
    "\n",
    "        return emotion\n",
    "\n",
    "    def relaxation(self):\n",
    "        '''\n",
    "        This methods describes how the the emotional state of agents relaxes\n",
    "        towards its baseline over time according to the internal decay\n",
    "        paramater, independently of whether or not an emotion was expressed.\n",
    "        '''\n",
    "        v_relax = (-1) * AGENT_DECAY[0] * (self.valence - VALENCE_BASE)\n",
    "        a_relax = (-1) * AGENT_DECAY[1] * (self.arousal - AROUSAL_BASE)\n",
    "        self.valence += v_relax\n",
    "        self.arousal += a_relax\n",
    "\n",
    "    def data_collection(self):\n",
    "        self.valence_history.append(round(self.valence, 2))\n",
    "        self.arousal_history.append(round(self.arousal, 2))"
   ]
  },
  {
   "cell_type": "markdown",
   "metadata": {},
   "source": [
    "Note: since the test runs only simulate one agent, agent expressions are artificially induced at the first time step."
   ]
  },
  {
   "cell_type": "code",
   "execution_count": 7,
   "metadata": {},
   "outputs": [],
   "source": [
    "class Field:\n",
    "    '''\n",
    "    Each communication field allows the agents of the model to communicate\n",
    "    with each other by storing their emotional expressions. Fields represent\n",
    "    discussion threads that forum users can participate in, one at a time, and\n",
    "    that affect their emotional state. It requires the input of the initial\n",
    "    emotional charge of the field, its impact on agents, and the decay of this\n",
    "    impact over time.\n",
    "    '''\n",
    "    def __init__(self):\n",
    "        self.charge = FIELD_CHARGE\n",
    "        self.positive_charge = 0\n",
    "        self.negative_charge = 0\n",
    "        self.field_history = [self.charge]\n",
    "        self.positive_number_of_expressions = EXPRESSIONS_POSITIVE # Initial stimulus, representing agents...\n",
    "        self.negative_number_of_expressions = EXPRESSIONS_NEGATIVE # ...previously expressing emotions to the field\n",
    "\n",
    "    def communication(self, time):\n",
    "        '''\n",
    "        This methods describes how the field variable changes depending on\n",
    "        user participation and the emotional information they put in. It takes\n",
    "        two lists of agent expression variables as input, namely a list of all\n",
    "        positive expressions and a list of all negative expressions.\n",
    "        '''\n",
    "        self.positive_charge = (FIELD_IMPACT * self.positive_number_of_expressions\n",
    "                                - FIELD_DECAY * self.positive_charge)\n",
    "        self.negative_charge = (FIELD_IMPACT * self.negative_number_of_expressions\n",
    "                                - FIELD_DECAY * self.negative_charge)\n",
    "        self.charge = self.positive_charge + self.negative_charge\n",
    "\n",
    "        self.positive_number_of_expressions = 0\n",
    "        self.negative_number_of_expressions = 0\n",
    "\n",
    "    def data_collection(self):\n",
    "        self.field_history.append(round(self.charge, 2))"
   ]
  },
  {
   "cell_type": "markdown",
   "metadata": {},
   "source": [
    "### Schedule\n",
    "\n",
    "The following function describes the order by which the model is run, starting by creating a set number of instances of the agent class and the field, processing the agent methods first, then the field methods and lastly collecting and visualizing data on both."
   ]
  },
  {
   "cell_type": "markdown",
   "metadata": {},
   "source": [
    "Note: the method describing the expression of emotions was excluded for testing purposes"
   ]
  },
  {
   "cell_type": "code",
   "execution_count": 8,
   "metadata": {},
   "outputs": [],
   "source": [
    "def start_simulation(time):\n",
    "    '''\n",
    "    This function runs the model using the given settings. At every time step,\n",
    "    each agent may or may not communicate its emotions by expressing them and\n",
    "    storing them in the field, and then adjusting its emotional state\n",
    "    accordingly. Afterwards, the field takes action by calculating its new\n",
    "    emotional charge given previous agent expressions. The output of the\n",
    "    function is a list of dataframes containing the individual valence and\n",
    "    arousal histories of the agents and the field charge history.\n",
    "    '''\n",
    "    agent = Agent()\n",
    "    field = Field()\n",
    "\n",
    "    for step in range(time):\n",
    "        agent.perception(field.charge)\n",
    "        agent.data_collection()\n",
    "        agent.relaxation()\n",
    "        field.communication(step)\n",
    "        field.data_collection()\n",
    "\n",
    "    v_list = []\n",
    "    a_list = []\n",
    "    f_list = []\n",
    "\n",
    "    v_list.append(agent.valence_history)\n",
    "    a_list.append(agent.arousal_history)\n",
    "    f_list.append(field.field_history)\n",
    "\n",
    "    v_data = pd.DataFrame(v_list)\n",
    "    a_data = pd.DataFrame(a_list)\n",
    "    f_data = pd.DataFrame(f_list)\n",
    "\n",
    "    data = {\"valence\": v_data, \"arousal\": a_data, \"field\": f_data}\n",
    "\n",
    "    valence_plot = data[\"valence\"].transpose().plot(color=\"#1f77b4\")\n",
    "    valence_plot.set(xlabel=\"Time\".capitalize())\n",
    "    valence_plot.legend([\"Agent valence\"])\n",
    "\n",
    "    arousal_plot = data[\"arousal\"].transpose().plot(color=\"#d62728\")\n",
    "    arousal_plot.set(xlabel=\"Time\".capitalize())\n",
    "    arousal_plot.legend([\"Agent arousal\"])\n",
    "\n",
    "    field_plot = data[\"field\"].transpose().plot(color=\"#2ca02c\")\n",
    "    field_plot.set(xlabel=\"Time\".capitalize())\n",
    "    field_plot.legend([\"Field charge\"])"
   ]
  },
  {
   "cell_type": "markdown",
   "metadata": {},
   "source": [
    "### Running the model"
   ]
  },
  {
   "cell_type": "markdown",
   "metadata": {},
   "source": [
    "Here the model is run with the above settings. At the current state it does not produce the expected output. The source of this failure remains to be determined, but is expected to lie in the method determining the decay of the field charge."
   ]
  },
  {
   "cell_type": "code",
   "execution_count": 10,
   "metadata": {},
   "outputs": [
    {
     "data": {
      "image/png": "[encoded data removed]",
      "text/plain": [
       "<Figure size 432x288 with 1 Axes>"
      ]
     },
     "metadata": {
      "needs_background": "light"
     },
     "output_type": "display_data"
    },
    {
     "data": {
      "image/png": "[encoded data removed]",
      "text/plain": [
       "<Figure size 432x288 with 1 Axes>"
      ]
     },
     "metadata": {
      "needs_background": "light"
     },
     "output_type": "display_data"
    },
    {
     "data": {
      "image/png": "[encoded data removed]",
      "text/plain": [
       "<Figure size 432x288 with 1 Axes>"
      ]
     },
     "metadata": {
      "needs_background": "light"
     },
     "output_type": "display_data"
    }
   ],
   "source": [
    "start_simulation(TIME)"
   ]
  },
  {
   "cell_type": "code",
   "execution_count": null,
   "metadata": {},
   "outputs": [],
   "source": []
  }
 ],
 "metadata": {
  "kernelspec": {
   "display_name": "Python 3",
   "language": "python",
   "name": "python3"
  },
  "language_info": {
   "codemirror_mode": {
    "name": "ipython",
    "version": 3
   },
   "file_extension": ".py",
   "mimetype": "text/x-python",
   "name": "python",
   "nbconvert_exporter": "python",
   "pygments_lexer": "ipython3",
   "version": "3.7.4"
  }
 },
 "nbformat": 4,
 "nbformat_minor": 4
}
